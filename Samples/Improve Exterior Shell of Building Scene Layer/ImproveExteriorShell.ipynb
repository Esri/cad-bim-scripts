{
 "cells": [
  {
   "cell_type": "markdown",
   "metadata": {},
   "source": [
    "### Improve the Exteriorshell of the building layer\n",
    "\n",
    "This notebook processes the exterior shell and floor layers in a geodatabase, filtering and combining features as needed."
   ]
  },
  {
   "cell_type": "markdown",
   "metadata": {},
   "source": [
    "#### Step 1: Set up environment and variables\n"
   ]
  },
  {
   "cell_type": "code",
   "execution_count": null,
   "metadata": {},
   "outputs": [],
   "source": [
    "import arcpy\n",
    "\n",
    "# Set the input geodatabase and workspace\n",
    "input_gdb = r'C:\\Projects\\Jihlava_MultipurposeAreana_2025.gdb\\Multi_Areana'\n",
    "arcpy.env.workspace = input_gdb\n",
    "\n",
    "# Define feature class and layer names\n",
    "exteriorshell_fc = 'ExteriorShell_Multi_Areana'\n",
    "floors_fc = 'Floors_Multi_Areana'\n",
    "working_layer = \"memory\\\\ExteriorShell_lyr\"\n",
    "working_floors_layer = \"memory\\\\Floor_lyr\"\n",
    "temp_fc = \"ExteriorShell_Temp\""
   ]
  },
  {
   "cell_type": "markdown",
   "metadata": {},
   "source": [
    "#### Step 2: Create a temporary layer for processing\n",
    "\n",
    "Make a temporary, in-memory feature layer from the exterior shell feature class."
   ]
  },
  {
   "cell_type": "code",
   "execution_count": null,
   "metadata": {},
   "outputs": [],
   "source": [
    "# Delete existing temporary layer if it exists\n",
    "if arcpy.Exists(working_layer):\n",
    "    arcpy.Delete_management(working_layer)\n",
    "# Create a feature layer for processing\n",
    "arcpy.management.MakeFeatureLayer(exteriorshell_fc, working_layer)"
   ]
  },
  {
   "cell_type": "markdown",
   "metadata": {},
   "source": [
    "#### Step 3: Select elements to exclude from the exterior shell\n",
    "\n",
    "Filter out features based on the 'DocName' field."
   ]
  },
  {
   "cell_type": "code",
   "execution_count": null,
   "metadata": {},
   "outputs": [],
   "source": [
    "filter_field = 'DocName'\n",
    "filter_values = [\n",
    "    '19_024_JIHL_I_ESI',\n",
    "    '19_024_JIHL_I_INT',\n",
    "    '19_024_JIHL_I_PODHLED_AKU',\n",
    "    '19_024_JIHL_I_TRB',\n",
    "    '19_024_JIHL_I_VZT',\n",
    "    '19_024_JIHL_III_ESI',\n",
    "    '19_024_JIHL_III_INT',\n",
    "    '19_024_JIHL_III_UTCH',\n",
    "    '19_024_JIHL_III_VZT'\n",
    "]\n",
    "# Build SQL WHERE clause to exclude these DocNames\n",
    "where_clause = f\"{filter_field} NOT IN ({', '.join([repr(name) for name in filter_values])})\"\n",
    "print(where_clause)"
   ]
  },
  {
   "cell_type": "code",
   "execution_count": null,
   "metadata": {},
   "outputs": [],
   "source": [
    "# Select features not in the excluded DocNames\n",
    "arcpy.management.SelectLayerByAttribute(working_layer, \"NEW_SELECTION\", where_clause)"
   ]
  },
  {
   "cell_type": "markdown",
   "metadata": {},
   "source": [
    "#### Step 4: Create a temporary exterior shell feature class\n",
    "\n",
    "Copy the selected features to a new temporary feature class for further processing."
   ]
  },
  {
   "cell_type": "code",
   "execution_count": null,
   "metadata": {},
   "outputs": [],
   "source": [
    "# Delete existing temp feature class if it exists\n",
    "if arcpy.Exists(temp_fc):\n",
    "    arcpy.Delete_management(temp_fc)\n",
    "\n",
    "# Copy the selected features to a new feature class\n",
    "arcpy.management.CopyFeatures(working_layer, temp_fc)"
   ]
  },
  {
   "cell_type": "markdown",
   "metadata": {},
   "source": [
    "#### Step 5: Add missing floor elements\n",
    "\n",
    "Select specific floor levels and append them to the temporary exterior shell feature class."
   ]
  },
  {
   "cell_type": "code",
   "execution_count": null,
   "metadata": {},
   "outputs": [],
   "source": [
    "# Delete existing temporary floor layer if it exists\n",
    "if arcpy.Exists(working_floors_layer):\n",
    "    arcpy.Delete_management(working_floors_layer)\n",
    "# Create a feature layer from the floors feature class\n",
    "arcpy.management.MakeFeatureLayer(floors_fc, working_floors_layer)"
   ]
  },
  {
   "cell_type": "code",
   "execution_count": null,
   "metadata": {},
   "outputs": [],
   "source": [
    "filter_field = 'BldgLevel'\n",
    "filter_values = [2, 8, 10]\n",
    "# Build SQL WHERE clause to select these BldgLevels\n",
    "floors_where_clause = f\"{filter_field} IN ({', '.join([repr(name) for name in filter_values])})\"\n",
    "print(floors_where_clause)"
   ]
  },
  {
   "cell_type": "code",
   "execution_count": null,
   "metadata": {},
   "outputs": [],
   "source": [
    "# Select floor features based on the where clause and append to temp_fc\n",
    "arcpy.management.SelectLayerByAttribute(working_floors_layer, \"NEW_SELECTION\", floors_where_clause)\n",
    "arcpy.management.Append(inputs=working_floors_layer, target=temp_fc, schema_type=\"NO_TEST\")"
   ]
  },
  {
   "cell_type": "code",
   "execution_count": null,
   "metadata": {},
   "outputs": [],
   "source": [
    "# Replace the original exterior shell feature class with the updated one\n",
    "if arcpy.Exists(exteriorshell_fc):\n",
    "    arcpy.Delete_management(exteriorshell_fc)\n",
    "    arcpy.AddMessage('Exterior Shell Layer Deleted')\n",
    "    arcpy.Rename_management(temp_fc, exteriorshell_fc)\n",
    "    arcpy.AddMessage('Generalized Layer Renamed to Exterior Shell')\n",
    "    arcpy.AlterAliasName(exteriorshell_fc, 'ExteriorShell')"
   ]
  },
  {
   "cell_type": "markdown",
   "metadata": {},
   "source": [
    "#### Step 6: Cleanup (optional)\n",
    "\n",
    "Optionally, delete temporary layers to keep the workspace clean."
   ]
  },
  {
   "cell_type": "code",
   "execution_count": null,
   "metadata": {},
   "outputs": [],
   "source": [
    "# Optional cleanup of temporary layers\n",
    "for lyr in [working_layer, working_floors_layer]:\n",
    "    if arcpy.Exists(lyr):\n",
    "        arcpy.Delete_management(lyr)"
   ]
  }
 ],
 "metadata": {
  "kernelspec": {
   "display_name": "ArcGISPro",
   "language": "python",
   "name": "python3"
  },
  "language_info": {
   "file_extension": ".py",
   "mimetype": "text/x-python",
   "name": "python",
   "version": "3.11.10"
  }
 },
 "nbformat": 4,
 "nbformat_minor": 4
}
