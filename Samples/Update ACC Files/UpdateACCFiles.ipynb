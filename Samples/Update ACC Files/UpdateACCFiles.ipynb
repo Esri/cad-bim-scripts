{
 "cells": [
  {
   "cell_type": "markdown",
   "id": "abe38391-5559-406a-b0b2-65d3717e1a3b",
   "metadata": {},
   "source": [
    "# Update ACC Files \n",
    "\n",
    "This Jupyter Notebook focuses on using Python to maintain and keeping downloaded files from Autodesk Construction Cloud (ACC) up-to-date. The following demonstrates how to use Python and Flask to set up a Python script that can be scheduled to download updated ACC files.\n",
    "\n",
    "## Use case \n",
    "During projects, computer-aided design (CAD) and building information modeling (BIM) data may undergo frequent changes by civil engineers, architects, and CAD technicians. These changes create a need to keep other project team members informed for downstream decision-making. For example, project and asset managers need timely and centralized access to up-to-date data for tracking progress and resolving issues. By reducing the time spent integrating CAD and BIM content into 3D web scenes, GIS teams can better enable stakeholders to mitigate risks on projects."
   ]
  },
  {
   "cell_type": "markdown",
   "id": "c7b0c4c8-c1ed-4abd-9e9b-2642beb4a315",
   "metadata": {},
   "source": [
    "## Requirements\n",
    "\n",
    "- Before continuing with the exercise, the user is expected to have used ArcGIS Pro to connect to BIM Cloud Connection to create an Autodesk Source File Manifest (ASFM) file. See https://pro.arcgis.com/en/pro-app/latest/help/data/cad/accessing-cad-data-from-cloud-connections.htm for more information. \n",
    "- Please have an ASFM on disk before continuing with the exercise.\n",
    "- The user is also expected to have basic familiarity using Python and a Jupyter Notebook, as well as basic HTTP request knowledge.\n",
    "- Additionally, please download the [Flask](https://pypi.org/project/Flask/) and [Requests](https://pypi.org/project/requests/) library using the following command: `python -m pip install flask requests`."
   ]
  },
  {
   "cell_type": "markdown",
   "id": "535bc490-db29-4e53-a1a8-9625508a6234",
   "metadata": {},
   "source": [
    "## How to use the sample \n",
    "\n",
    "### Step 1: Register an Application with Autodesk Platform Service\n",
    "\n",
    "The first step is to register a web app Autodesk Platform Service (APS). \n",
    "\n",
    "While following the tutorial, register a \"Traditional Web App\". Once you have a set of CLIENT_ID and CLIENT_SECRET as well as the redirect URL setup, return to this notebook and proceed to the next step.\n",
    "\n",
    "Follow the tutorial at https://get-started.aps.autodesk.com until the \"Provision access in other products\" section to set up your application."
   ]
  },
  {
   "cell_type": "markdown",
   "id": "f270e92d-5a53-43ec-809c-b958069c699b",
   "metadata": {},
   "source": [
    "### Step 2: Authenticate with APS to exchange for an access token\n",
    "\n",
    "The next step is to perform 3-legged authentication with APS for an authentication code and exchange the code for an access token. The following code setups a Flask application to authenticate with APS."
   ]
  },
  {
   "cell_type": "code",
   "execution_count": null,
   "id": "c03ea03e-e5c0-4a3c-9147-e8f643202b06",
   "metadata": {},
   "outputs": [],
   "source": [
    "import requests\n",
    "import json\n",
    "from flask import Flask, request, redirect"
   ]
  },
  {
   "cell_type": "markdown",
   "id": "0c83a823-f1ef-4868-aa6c-f2f57c424729",
   "metadata": {},
   "source": [
    "Replace the following CLIENT_ID and CLIENT_SECRET with your application's CLIENT_ID and CLIENT_SECRET from Step 1."
   ]
  },
  {
   "cell_type": "code",
   "execution_count": null,
   "id": "cc5b3711-f699-4a66-b370-370ea80c9d0c",
   "metadata": {},
   "outputs": [],
   "source": [
    "CLIENT_ID = 'YOUR_CLIENT_ID'\n",
    "CLIENT_SECRET = 'YOUR_CLIENT_SECRET'"
   ]
  },
  {
   "cell_type": "markdown",
   "id": "1b77cba0-148d-4786-a10b-d78402fee57a",
   "metadata": {},
   "source": [
    "Ensure the redirect URI from Step 1 matches the following URI. If you used a different URI, change it, else leave it unchanged. "
   ]
  },
  {
   "cell_type": "code",
   "execution_count": null,
   "id": "3b7bee8c-548d-439e-bbfd-a5aa1d81cfea",
   "metadata": {},
   "outputs": [],
   "source": [
    "REDIRECT_URI = 'http://localhost:8080/api/auth/callback'"
   ]
  },
  {
   "cell_type": "markdown",
   "id": "0acc406d-09bf-477f-8b42-2907288d32b3",
   "metadata": {},
   "source": [
    "The next cell creates a new Flask application object, and configures it to listen on the 8080 port. While the Flask app is running, the kernel will remain busy. "
   ]
  },
  {
   "cell_type": "code",
   "execution_count": null,
   "id": "29afd893-a9be-4fd1-b70d-31cdb667d647",
   "metadata": {},
   "outputs": [],
   "source": [
    "app = Flask(__name__)\n",
    "SCOPE = 'data:read'\n",
    "\n",
    "@app.route('/')\n",
    "def authenticate():\n",
    "    return redirect(f\"https://developer.api.autodesk.com/authentication/v2/authorize?response_type=code&client_id={CLIENT_ID}&redirect_uri={REDIRECT_URI}&scope={SCOPE}\")\n",
    "\n",
    "@app.route('/api/auth/callback', methods=['POST','GET'])\n",
    "def callback():\n",
    "    # Get authentication code from the GET parameters. (The authentication code is needed to refresh the access token in Appendix A)\n",
    "    code = request.args.get('code')\n",
    "    payload = f\"grant_type=authorization_code&code={code}&client_id={CLIENT_ID}&client_secret={CLIENT_SECRET}&redirect_uri={REDIRECT_URI}\"\n",
    "\n",
    "    # Exchange for access token\n",
    "    tokenUrl = \"https://developer.api.autodesk.com/authentication/v2/token\"\n",
    "    headers = {\n",
    "        \"Content-Type\": \"application/x-www-form-urlencoded\"\n",
    "    }\n",
    "    \n",
    "    response = requests.request(\"POST\", tokenUrl, data=payload, headers=headers).json()\n",
    "    \n",
    "    return json.dumps(response, indent=2), 200\n",
    "\n",
    "if __name__ == '__main__':\n",
    "    # Start the app and listen for requests on port 8080\n",
    "    app.run(port=8080) \n",
    "    "
   ]
  },
  {
   "cell_type": "markdown",
   "id": "7078e73d-a7d4-4a06-9d7d-5c009d1c90f4",
   "metadata": {},
   "source": [
    "Now that the Flask application is running (the kernel should remain busy), open a web browser and enter the following address: http://localhost:8080/. You should be redirected to Autodesk's authentication page. After entering your credentials, you will be redirected back to the callback URL you defined in Step 1 with an `access_token` and a `refresh_token`.\n",
    "\n",
    "Store the `access_token` and the `refresh_token` in the variables below. Additionally, store the authentication code within the callback function to refresh the `access_token` later (see Appendix A). Now you can interrupt the kernel to terminate the Flask app. \n",
    "\n",
    "For more information about using Python and Flask to perform a three-legged token exchange, see https://aps.autodesk.com/blog/three-legged-token-python-and-flask."
   ]
  },
  {
   "cell_type": "code",
   "execution_count": null,
   "id": "4a3ba246-cf15-44e8-b051-152c0855fb50",
   "metadata": {},
   "outputs": [],
   "source": [
    "access_token = \"YOUR_ACCESS_TOKEN\"\n",
    "refresh_token = \"YOUR_REFRESH_TOKEN\""
   ]
  },
  {
   "cell_type": "markdown",
   "id": "88c90dde-91ff-4930-bd16-a0f775f135ad",
   "metadata": {},
   "source": [
    "### Step 3: Create a function to check for updates from BIM 360\n",
    "\n",
    "To check if a file has been updated on BIM 360, you will need the `project_id`, `item_id` and the current version of the file on disk. All required information is stored inside an Autodesk Source File Manifest (ASFM) file on disk. The following demonstrates how to open an existing ASFM file and retrieve the `project_id`, `item_id`, and current version of the file.\n",
    "\n",
    "First, replace the following variable with the file path to the ASFM file on disk."
   ]
  },
  {
   "cell_type": "code",
   "execution_count": null,
   "id": "8b5b28f2-7254-4c78-bedc-185630b55c79",
   "metadata": {},
   "outputs": [],
   "source": [
    "file_path = r\"dir\\path_to_file.asfm\""
   ]
  },
  {
   "cell_type": "markdown",
   "id": "473fc2f6-9d59-4732-9ca7-f352426e3518",
   "metadata": {},
   "source": [
    "Next, run the following cell, which will read the ASFM file into memory."
   ]
  },
  {
   "cell_type": "code",
   "execution_count": null,
   "id": "baf90639-9f0c-4e85-9526-d5b59d00b0ca",
   "metadata": {},
   "outputs": [],
   "source": [
    "import json\n",
    "\n",
    "# Read the ASFM file as a JSON object\n",
    "f = open(file_path, \"r\")\n",
    "asfm = json.loads(f.read())\n",
    "f.close()\n",
    "\n",
    "# Hold onto information to be used later\n",
    "project_id = asfm[\"ProjectId\"]\n",
    "item_id = asfm[\"ItemId\"]\n",
    "local_version = int(asfm[\"Version\"])"
   ]
  },
  {
   "cell_type": "markdown",
   "id": "d6ea2005-d727-4654-ab17-e6b3c1e1e32b",
   "metadata": {},
   "source": [
    "The next step is to use the `access_token` along with the `project_id` and `item_id` to retrieve the item metadata from APS and compare against the current file version."
   ]
  },
  {
   "cell_type": "code",
   "execution_count": null,
   "id": "345c393a-b7cd-4ce3-be7e-52f774ad9c74",
   "metadata": {},
   "outputs": [],
   "source": [
    "import requests\n",
    "\n",
    "metadata_url = f\"https://developer.api.autodesk.com/data/v1/projects/{project_id}/items/{item_id}\"\n",
    "headers = {\n",
    "    \"Content-Type\": \"application/x-www-form-urlencoded\",\n",
    "    \"Authorization\": f\"Bearer {access_token}\"\n",
    "}\n",
    "\n",
    "metadata = requests.request(\"GET\", metadata_url, headers=headers).json()\n",
    "cloud_version = metadata[\"included\"][0][\"attributes\"][\"versionNumber\"]"
   ]
  },
  {
   "cell_type": "markdown",
   "id": "ddcc9c4b-1c95-4a11-9972-1cce6909c1fc",
   "metadata": {},
   "source": [
    "If the `cloud_version` is newer, then we will need to update the file locally. \n",
    "\n",
    "Combining the above generates the following function, which will be used in a later step:\n",
    "\n",
    "```Python\n",
    "def needs_update(file_path):\n",
    "    # Get the local file version\n",
    "    f = open(file_path, \"r\")\n",
    "    asfm = json.loads(f.read())\n",
    "    f.close()\n",
    "\n",
    "    project_id = asfm[\"ProjectId\"]\n",
    "    item_id = asfm[\"ItemId\"]\n",
    "    local_version = int(asfm[\"Version\"])\n",
    "\n",
    "    # Get the cloud file version\n",
    "    metadata_url = f\"https://developer.api.autodesk.com/data/v1/projects/{project_id}/items/{item_id}\"\n",
    "    headers = {\n",
    "        \"Content-Type\": \"application/x-www-form-urlencoded\",\n",
    "        \"Authorization\": f\"Bearer {access_token}\"\n",
    "    }\n",
    "    \n",
    "    metadata = requests.request(\"GET\", metadata_url, headers=headers).json()\n",
    "    cloud_version = metadata[\"included\"][0][\"attributes\"][\"versionNumber\"]\n",
    "\n",
    "    # Compare the two versions\n",
    "    return cloud_version > local_version\n",
    "```\n"
   ]
  },
  {
   "cell_type": "markdown",
   "id": "2c4fc979-56b1-420a-8806-e09469b94c87",
   "metadata": {},
   "source": [
    "### Step 4: Create a function to download file from BIM 360\n",
    "\n",
    "If BIM 360 has a newer versioned file, then you will need to download the file from BIM 360. The following shows how to retrieve the item metadata using the `project_id`, `item_id`, and `access_token`."
   ]
  },
  {
   "cell_type": "code",
   "execution_count": null,
   "id": "33947443-e36a-4ce3-93be-9832180e72d5",
   "metadata": {},
   "outputs": [],
   "source": [
    "metadata_url = f\"https://developer.api.autodesk.com/data/v1/projects/{project_id}/items/{item_id}\"\n",
    "headers = {\n",
    "    \"Content-Type\": \"application/x-www-form-urlencoded\",\n",
    "    \"Authorization\": f\"Bearer {access_token}\"\n",
    "}\n",
    "\n",
    "metadata = requests.request(\"GET\", metadata_url, headers=headers).json()"
   ]
  },
  {
   "cell_type": "markdown",
   "id": "3fb05a48-e229-4d69-9e5c-f8352fe17688",
   "metadata": {},
   "source": [
    "After downloading the item metadata, you can retrieve the storage URL and exchange it for a download URL."
   ]
  },
  {
   "cell_type": "code",
   "execution_count": null,
   "id": "f2728634-9f1f-4aec-9af0-8afc46134304",
   "metadata": {},
   "outputs": [],
   "source": [
    "# Retrieve the storage url from the item metadata\n",
    "storage_url = metadata[\"included\"][0][\"relationships\"][\"storage\"][\"meta\"][\"link\"][\"href\"]\n",
    "\n",
    "# Remove any GET parameters from the URL\n",
    "if storage_url.find('?'):\n",
    "    storage_url = storage_url[:storage_url.find('?')]\n",
    "\n",
    "# Gets a short-lived signed URL at which you can download an object directly from Amazon S3, bypassing OSS servers.\n",
    "storage_url = storage_url + \"/signeds3download\"\n",
    "item = requests.request(\"GET\", storage_url, headers=headers).json()\n",
    "\n",
    "download_url = item[\"url\"]"
   ]
  },
  {
   "cell_type": "markdown",
   "id": "98b467e5-cdf1-4970-89cd-03a3d2e2a537",
   "metadata": {},
   "source": [
    "The next part shows how to use the `download_url` to download the file, overwriting the existing file on disk."
   ]
  },
  {
   "cell_type": "code",
   "execution_count": null,
   "id": "ed2f6a55-8673-4cdd-9969-71a2f697bd6e",
   "metadata": {},
   "outputs": [],
   "source": [
    "import os \n",
    "import shutil\n",
    "\n",
    "path = os.path.join(\".\", asfm[\"SourceFileName\"])\n",
    "\n",
    "# Get the response as a byte stream\n",
    "download = requests.request(\"GET\", download_url, stream=True)\n",
    "\n",
    "# Redirect the data from the byte stream into a local file stream\n",
    "with open(path, 'wb') as out_file:\n",
    "    shutil.copyfileobj(download.raw, out_file)"
   ]
  },
  {
   "cell_type": "markdown",
   "id": "1e4ba7ad-45da-47c0-8481-96f9bae9f9bc",
   "metadata": {},
   "source": [
    "Combining the above creates the following function, which will be used in a later step:\n",
    "\n",
    "```Python\n",
    "def update_file(file_path):\n",
    "    # Get the local file path\n",
    "    f = open(file_path, \"r\")\n",
    "    asfm = json.loads(f.read())\n",
    "    f.close()\n",
    "\n",
    "    project_id = asfm[\"ProjectId\"]\n",
    "    item_id = asfm[\"ItemId\"]\n",
    "    path = os.path.join(\".\", asfm[\"SourceFileName\"])\n",
    "\n",
    "    # Get the item metadata\n",
    "    metadata_url = f\"https://developer.api.autodesk.com/data/v1/projects/{project_id}/items/{item_id}\"\n",
    "    headers = {\n",
    "        \"Content-Type\": \"application/x-www-form-urlencoded\",\n",
    "        \"Authorization\": f\"Bearer {access_token}\"\n",
    "    }\n",
    "    \n",
    "    # Retrieve the storage url from the item metadata\n",
    "    storage_url = metadata[\"included\"][0][\"relationships\"][\"storage\"][\"meta\"][\"link\"][\"href\"]\n",
    "    \n",
    "    # Remove any GET parameters from the URL\n",
    "    if storage_url.find('?'):\n",
    "        storage_url = storage_url[:storage_url.find('?')]\n",
    "    \n",
    "    # Gets a short-lived signed URL at which you can download an object directly from S3, bypassing OSS servers.\n",
    "    storage_url = storage_url + \"/signeds3download\"\n",
    "    item = requests.request(\"GET\", storage_url, headers=headers).json()\n",
    "    \n",
    "    # Get the response as a byte stream\n",
    "    download = requests.request(\"GET\", download_url, stream=True)\n",
    "\n",
    "    # Redirect the data from the byte stream into a local file stream\n",
    "    with open(path, 'wb') as out_file:\n",
    "        shutil.copyfileobj(download.raw, out_file)\n",
    "```\n",
    "\n",
    "After downloading the updated file from APS, remember update the local file version in the ASFM file. "
   ]
  },
  {
   "cell_type": "code",
   "execution_count": null,
   "id": "7053a260-ae28-4aad-9ab7-676e21a1180b",
   "metadata": {},
   "outputs": [],
   "source": [
    "asfm[\"Version\"] = cloud_version\n",
    "\n",
    "# Write the updated JSON object back to the ASFM file\n",
    "with open(file_path, 'w') as out_file:\n",
    "    json.dump(asfm, out_file)"
   ]
  },
  {
   "cell_type": "markdown",
   "id": "1d3548f1-2722-4092-ba11-49b6e6870419",
   "metadata": {},
   "source": [
    "### Step 5 (final): Create and schedule a Python script to automatically update downloaded BIM 360 files\n",
    "\n",
    "This is the final step to creating a Python script that can download updated BIM 360 files from APS. We can combine the Python functions at the end of Step 3 and Step 4 to generate a Python script, like the one seen below:\n"
   ]
  },
  {
   "cell_type": "code",
   "execution_count": null,
   "id": "3be6e3d3-c84a-4bf5-8496-402f0989f6af",
   "metadata": {},
   "outputs": [],
   "source": [
    "import os\n",
    "import shutil\n",
    "import json\n",
    "import requests\n",
    "\n",
    "# Replace the following three variables\n",
    "access_token = \"YOUR_ACCESS_TOKEN\"\n",
    "refresh_token = \"YOUR_REFRESH_TOKEN\"\n",
    "asfm_files = [r\"dir/path_to_file1.asfm\", r\"dir/path_to_file2.asfm\"]\n",
    "\n",
    "def needs_update(file_path):\n",
    "    # Get the local file version\n",
    "    f = open(file_path, \"r\")\n",
    "    asfm = json.loads(f.read())\n",
    "    f.close()\n",
    "\n",
    "    project_id = asfm[\"ProjectId\"]\n",
    "    item_id = asfm[\"ItemId\"]\n",
    "    local_version = int(asfm[\"Version\"])\n",
    "\n",
    "    # Get the cloud file version\n",
    "    metadata_url = f\"https://developer.api.autodesk.com/data/v1/projects/{project_id}/items/{item_id}\"\n",
    "    headers = {\n",
    "        \"Content-Type\": \"application/x-www-form-urlencoded\",\n",
    "        \"Authorization\": f\"Bearer {access_token}\"\n",
    "    }\n",
    "    \n",
    "    metadata = requests.request(\"GET\", metadata_url, headers=headers).json()\n",
    "    cloud_version = metadata[\"included\"][0][\"attributes\"][\"versionNumber\"]\n",
    "\n",
    "    # Compare the two versions\n",
    "    return cloud_version > local_version\n",
    "\n",
    "def update_asfm_version(file_path):\n",
    "    # Get the local file version\n",
    "    f = open(file_path, \"r\")\n",
    "    asfm = json.loads(f.read())\n",
    "    f.close()\n",
    "    \n",
    "    project_id = asfm[\"ProjectId\"]\n",
    "    item_id = asfm[\"ItemId\"]\n",
    "    \n",
    "    # Get the cloud file version\n",
    "    metadata_url = f\"https://developer.api.autodesk.com/data/v1/projects/{project_id}/items/{item_id}\"\n",
    "    headers = {\n",
    "        \"Content-Type\": \"application/x-www-form-urlencoded\",\n",
    "        \"Authorization\": f\"Bearer {access_token}\"\n",
    "    }\n",
    "\n",
    "    metadata = requests.request(\"GET\", metadata_url, headers=headers).json()\n",
    "    cloud_version = metadata[\"included\"][0][\"attributes\"][\"versionNumber\"]\n",
    "\n",
    "    asfm[\"Version\"] = str(cloud_version)\n",
    "    \n",
    "    # Write the updated JSON object back to the ASFM file\n",
    "    with open(file_path, 'w') as out_file:\n",
    "        json.dump(asfm, out_file)\n",
    "\n",
    "def update_file(file_path):\n",
    "    # Get the local file path\n",
    "    f = open(file_path, \"r\")\n",
    "    asfm = json.loads(f.read())\n",
    "    f.close()\n",
    "\n",
    "    project_id = asfm[\"ProjectId\"]\n",
    "    item_id = asfm[\"ItemId\"]\n",
    "    path = os.path.join(\".\", asfm[\"SourceFileName\"])\n",
    "\n",
    "    # Get the item metadata\n",
    "    metadata_url = f\"https://developer.api.autodesk.com/data/v1/projects/{project_id}/items/{item_id}\"\n",
    "    headers = {\n",
    "        \"Content-Type\": \"application/x-www-form-urlencoded\",\n",
    "        \"Authorization\": f\"Bearer {access_token}\"\n",
    "    }\n",
    "    \n",
    "    # Retrieve the storage url from the item metadata\n",
    "    storage_url = metadata[\"included\"][0][\"relationships\"][\"storage\"][\"meta\"][\"link\"][\"href\"]\n",
    "    \n",
    "    # Remove any GET parameters from the URL\n",
    "    if storage_url.find('?'):\n",
    "        storage_url = storage_url[:storage_url.find('?')]\n",
    "    \n",
    "    # Gets a short-lived signed URL at which you can download an object directly from S3, bypassing OSS servers.\n",
    "    storage_url = storage_url + \"/signeds3download\"\n",
    "    item = requests.request(\"GET\", storage_url, headers=headers).json()\n",
    "    \n",
    "    # Get the response as a byte stream\n",
    "    download = requests.request(\"GET\", download_url, stream=True)\n",
    "\n",
    "    # Redirect the data from the byte stream into a local file stream, overwriting the existing file on disk\n",
    "    with open(path, 'wb') as out_file:\n",
    "        shutil.copyfileobj(download.raw, out_file)\n",
    "\n",
    "if __name__ == \"__main__\":\n",
    "    for asfm_file in asfm_files:\n",
    "        if needs_update(asfm_file):\n",
    "            update_file(asfm_file)\n",
    "            update_asfm_version(asfm_file)\n",
    "            "
   ]
  },
  {
   "cell_type": "markdown",
   "id": "5fc88e9a-3807-4f76-a57e-42d15b2219c0",
   "metadata": {},
   "source": [
    "You may add additional ASFM files inside the list `asfm_files` as needed to iterate over all existing ASFM files. For convenience, the content in the above cell can be copied into and executed as stand-alone Python script with minimal modification. \n",
    "\n",
    "Now you can use [Windows Task Scheduler](https://learn.microsoft.com/en-us/windows/win32/taskschd/task-scheduler-start-page) or your preferred scheduler application to schedule the Python script to update the downloaded BIM 360 files at a specified time. Happy automating!"
   ]
  },
  {
   "cell_type": "markdown",
   "id": "58910caa-884f-4722-a67c-15da95436870",
   "metadata": {},
   "source": [
    "### Appendix A\n",
    "\n",
    "Access tokens can expire. If expired, you can use the authentication code and refresh token to request a new access token. Strategies to ensure the access token is unexpired are outside the scope of this Jupyter Notebook, but the refresh token and the authentication code can be used to exchange for a new access token and refresh token as demonstrated below:"
   ]
  },
  {
   "cell_type": "code",
   "execution_count": null,
   "id": "bb813aef-87b8-4515-a750-897cf3181a04",
   "metadata": {},
   "outputs": [],
   "source": [
    "code = 'YOUR_AUTHENTICATION_CODE'\n",
    "\n",
    "refresh_url = f\"https://developer.api.autodesk.com/authentication/v2/token\"\n",
    "payload = f\"client_id={CLIENT_ID}&client_secret={CLIENT_SECRET}&refresh_token={refresh_token}&code={code}&grant_type=refresh_token\"\n",
    "headers = {\n",
    "    \"Content-Type\": \"application/x-www-form-urlencoded\",\n",
    "    \"Authorization\": f\"Bearer {access_token}\"\n",
    "}\n",
    "\n",
    "response = requests.request(\"POST\", refresh_url, data=payload, headers=headers).json()"
   ]
  }
 ],
 "metadata": {
  "kernelspec": {
   "display_name": "Python 3 (ipykernel)",
   "language": "python",
   "name": "python3"
  },
  "language_info": {
   "codemirror_mode": {
    "name": "ipython",
    "version": 3
   },
   "file_extension": ".py",
   "mimetype": "text/x-python",
   "name": "python",
   "nbconvert_exporter": "python",
   "pygments_lexer": "ipython3",
   "version": "3.11.11"
  }
 },
 "nbformat": 4,
 "nbformat_minor": 5
}
