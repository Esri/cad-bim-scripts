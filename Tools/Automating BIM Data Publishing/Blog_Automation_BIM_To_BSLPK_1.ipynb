{
 "cells": [
  {
   "cell_type": "markdown",
   "metadata": {},
   "source": [
    "# Stage 1"
   ]
  },
  {
   "cell_type": "markdown",
   "metadata": {
    "heading_collapsed": true
   },
   "source": [
    "## Publish Building Scene Layer"
   ]
  },
  {
   "cell_type": "markdown",
   "metadata": {
    "heading_collapsed": true,
    "hidden": true
   },
   "source": [
    "### Import Packages"
   ]
  },
  {
   "cell_type": "code",
   "execution_count": null,
   "metadata": {
    "hidden": true
   },
   "outputs": [],
   "source": [
    "import arcpy\n",
    "import os\n",
    "import ast\n",
    "import time"
   ]
  },
  {
   "cell_type": "markdown",
   "metadata": {
    "heading_collapsed": true,
    "hidden": true
   },
   "source": [
    "### Define Variables"
   ]
  },
  {
   "cell_type": "markdown",
   "metadata": {
    "hidden": true
   },
   "source": [
    "Change the variable paths and values to fit your working environment and project. "
   ]
  },
  {
   "cell_type": "markdown",
   "metadata": {
    "hidden": true
   },
   "source": [
    "To find the correct format for a desired transformation, you can consult this [list of supported geographic and vertical transformations](https://pro.arcgis.com/en/pro-app/latest/help/mapping/properties/pdf/geographic_transformations.pdf)."
   ]
  },
  {
   "cell_type": "code",
   "execution_count": null,
   "metadata": {
    "hidden": true
   },
   "outputs": [],
   "source": [
    "# The BIM file or files that will be converted to geodatabase feature classes. \n",
    "# This could be Revit or IFC or both formats\n",
    "bim_file_location = r'C:\\TEMP\\Automation_Blog\\Automation_Sample\\Revit\\HUT_DA_60.rvt'\n",
    "\n",
    "# The full path to the location of an existing ArcGIS Pro Project\n",
    "project_path = r\"C:\\TEMP\\Automation_Blog\\Automation_Sample\\GDB\"\n",
    "\n",
    "# The geodatabase where the output feature dataset will be created. \n",
    "# This must be an existing geodatabase in the provided project.\n",
    "gdb_name = \"DigitalModel_ProjectA_Del_60.gdb\"\n",
    "\n",
    "# The spatial reference of the output feature dataset. \n",
    "# The default will be the spatial reference defined\n",
    "# by the projection file of the BIM File Workspace (IFC or Revit)\n",
    "input_spatial_reference = \"NAD_1983_2011_StatePlane_Maine_East_FIPS_1801_Ft_US\"\n",
    "\n",
    "# The building dataset name. \n",
    "# The name will be use also for the name of the\n",
    "# building scene layer package and published layer. \n",
    "dataset_name = \"Part_60\"\n",
    "\n",
    "# Desired coordinate system\n",
    "ouput_coordinate_system =  \"GCS_WGS_1984\"\n",
    "\n",
    "# Transformation used between the coordinate systems\n",
    "intended_transformation = \"WGS_1984_(ITRF08)_To_NAD_1983_2011\""
   ]
  },
  {
   "cell_type": "markdown",
   "metadata": {
    "heading_collapsed": true,
    "hidden": true
   },
   "source": [
    "### Export the BIM file Workspace into a Feature Dataset"
   ]
  },
  {
   "cell_type": "markdown",
   "metadata": {
    "hidden": true
   },
   "source": [
    "This step is optional if:\n",
    "* your building/structure is represented by one single digital model or \n",
    "* you want to publish each digital model individually or\n",
    "* you don’t require editing the geometry and/or attributes using Pro"
   ]
  },
  {
   "cell_type": "markdown",
   "metadata": {
    "hidden": true
   },
   "source": [
    "Note: If a feature dataset of the provided `dataset_name` already exists in the target GDB, it will be deleted by this code."
   ]
  },
  {
   "cell_type": "code",
   "execution_count": null,
   "metadata": {
    "hidden": true,
    "scrolled": true
   },
   "outputs": [],
   "source": [
    "feature_dataset_path = os.path.join(project_path, gdb_name, dataset_name)\n",
    "\n",
    "if arcpy.Exists(os.path.join(feature_dataset_path)):\n",
    "    arcpy.Delete_management(feature_dataset_path)\n",
    "    \n",
    "arcpy.conversion.BIMFileToGeodatabase(\n",
    "    in_bim_file_workspace = bim_file_location,\n",
    "    out_gdb_path = os.path.join(project_path, gdb_name),\n",
    "    out_dataset_name = dataset_name,\n",
    "    spatial_reference = input_spatial_reference,\n",
    "    include_floorplan = \"EXCLUDE_FLOORPLAN\"\n",
    ")"
   ]
  },
  {
   "cell_type": "markdown",
   "metadata": {
    "hidden": true
   },
   "source": [
    "Do not worry if some `WARNING 000117: Warning empty output generated.` messages are returned. It is common that not all possible layers will have content."
   ]
  },
  {
   "cell_type": "markdown",
   "metadata": {
    "heading_collapsed": true,
    "hidden": true
   },
   "source": [
    "### Create Temporary Building Layer from the Feature Dataset"
   ]
  },
  {
   "cell_type": "markdown",
   "metadata": {},
   "source": [
    "This is an intermediate step that prepares data to be an input for the next step."
   ]
  },
  {
   "cell_type": "code",
   "execution_count": null,
   "metadata": {
    "hidden": true
   },
   "outputs": [],
   "source": [
    "temporary_layer = arcpy.management.MakeBuildingLayer(\n",
    "    in_feature_dataset = feature_dataset_path,\n",
    "    out_layer= f\"{dataset_name}_Layer\"\n",
    ")"
   ]
  },
  {
   "cell_type": "markdown",
   "metadata": {
    "heading_collapsed": true,
    "hidden": true
   },
   "source": [
    "### Create a Building Scene Layer Package"
   ]
  },
  {
   "cell_type": "code",
   "execution_count": null,
   "metadata": {
    "hidden": true,
    "scrolled": true
   },
   "outputs": [],
   "source": [
    "slpk_path = os.path.join(project_path, f\"{dataset_name}.slpk\")\n",
    "print(f\"Creating output at {slpk_path}\")\n",
    "\n",
    "arcpy.management.CreateBuildingSceneLayerPackage(\n",
    "    in_dataset = temporary_layer,\n",
    "    out_slpk = slpk_path,\n",
    "    out_coor_system = ouput_coordinate_system,\n",
    "    transform_method = intended_transformation,\n",
    "    texture_optimization = \"DESKTOP\",\n",
    "    target_cloud_connection = None\n",
    ")"
   ]
  },
  {
   "cell_type": "markdown",
   "metadata": {
    "hidden": true
   },
   "source": [
    "### Share the Package as a Building Scene Layer (hosted)"
   ]
  },
  {
   "cell_type": "markdown",
   "metadata": {
    "hidden": true
   },
   "source": [
    "**NOTES :** \n",
    "* This tool will publish the package under the name provided by the user as `dataset_name`. It will fail if a layer of that name already exists in the organization.\n",
    "* If running this notebook in ArcGIS Pro and the user is already logged into an organization through ArcGIS Pro, the tool will use these credentials and will not require a username/password.\n",
    "* The organizational sharing and groups setting will depend on your organization.\n",
    "* For best practices the Tags and Summary should be defined based on your project requirements.\n",
    "* [Consulting a full list of the tool parameters is advised](https://pro.arcgis.com/en/pro-app/latest/tool-reference/data-management/share-package.htm)"
   ]
  },
  {
   "cell_type": "code",
   "execution_count": null,
   "metadata": {
    "hidden": true
   },
   "outputs": [],
   "source": [
    "results = arcpy.management.SharePackage(\n",
    "    in_package = slpk_path,\n",
    "    username = \"\",\n",
    "    password = \"\",\n",
    "    summary = \"BIM Project Example\",\n",
    "    tags = \"3D, building scene layer\",\n",
    "    credits = \"\",\n",
    "    public = \"MYGROUPS\",\n",
    "    groups = None,\n",
    "    organization = \"MYORGANIZATION\",\n",
    "    publish_web_layer = \"TRUE\",\n",
    "    portal_folder = \"Delete\"\n",
    ")"
   ]
  },
  {
   "cell_type": "code",
   "execution_count": null,
   "metadata": {
    "hidden": true
   },
   "outputs": [],
   "source": [
    "if results and results[\"out_results\"] == \"true\":\n",
    "    print(f\"Successfully uploaded {slpk_path}\\n\")\n",
    "    publish_results = ast.literal_eval(results[\"publish_results\"])\n",
    "    serviceItemId = publish_results[\"publishResult\"][\"serviceItemId\"]\n",
    "    print(f\"Service Item ID: {serviceItemId}\")\n",
    "else:\n",
    "    print(f\"Error while attempting to upload {slpk_path}\\n\")"
   ]
  },
  {
   "cell_type": "markdown",
   "metadata": {
    "hidden": true
   },
   "source": [
    "<br>**NOTE :** <br>\n",
    "If proceeding to Part 2, make note of the Item ID returned by this step during your **original** publication. It will be the portal item targeted for updates as the project goes through the construction phases. "
   ]
  },
  {
   "cell_type": "markdown",
   "metadata": {},
   "source": [
    "# Stage 2"
   ]
  },
  {
   "cell_type": "markdown",
   "metadata": {},
   "source": [
    "## Replace the prior version of the Building Scene Layer"
   ]
  },
  {
   "cell_type": "markdown",
   "metadata": {},
   "source": [
    "The prior version of the building scene layer will be replaced with the new version of the building scene layer."
   ]
  },
  {
   "cell_type": "markdown",
   "metadata": {},
   "source": [
    "**NOTE:** `The coordinate system should be the same between the original and the replacement building scene layer package.`"
   ]
  },
  {
   "cell_type": "markdown",
   "metadata": {},
   "source": [
    "#### Find the item ID of the older phase of the project"
   ]
  },
  {
   "cell_type": "markdown",
   "metadata": {},
   "source": [
    "Example `currentItemId = \"09478f7efb6341b8bba51a9c3c984730\"`. This is the Item ID of the **prior phase**"
   ]
  },
  {
   "cell_type": "markdown",
   "metadata": {},
   "source": [
    "### Define Variables"
   ]
  },
  {
   "cell_type": "code",
   "execution_count": null,
   "metadata": {},
   "outputs": [],
   "source": [
    "# The web layer that will be replaced. \n",
    "currentItemId = \"YOURCURRENTITEMID\""
   ]
  },
  {
   "cell_type": "markdown",
   "metadata": {},
   "source": [
    "### Replace Web Layer"
   ]
  },
  {
   "cell_type": "code",
   "execution_count": null,
   "metadata": {},
   "outputs": [],
   "source": [
    "results = arcpy.server.ReplaceWebLayer(\n",
    "    target_layer = currentItemId, \n",
    "    archive_layer_name = f\"{dataset_name}_archive_{time.strftime('%Y%m%d')}\", \n",
    "    update_layer = serviceItemId,\n",
    "    replace_item_info = \"REPLACE\", \n",
    "    create_new_item = \"TRUE\"\n",
    ")\n",
    "\n",
    "print(f\"Successfully replaced web layer at {results[0]}.\")"
   ]
  }
 ],
 "metadata": {
  "kernelspec": {
   "display_name": "ArcGISPro",
   "language": "python",
   "name": "python3"
  },
  "language_info": {
   "file_extension": ".py",
   "mimetype": "text/x-python",
   "name": "python",
   "version": "3.11.10"
  }
 },
 "nbformat": 4,
 "nbformat_minor": 4
}
